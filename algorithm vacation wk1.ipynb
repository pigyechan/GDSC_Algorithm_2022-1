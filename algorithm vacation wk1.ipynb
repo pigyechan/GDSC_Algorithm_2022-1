{
 "cells": [
  {
   "cell_type": "code",
   "execution_count": 1,
   "id": "9820eb10",
   "metadata": {},
   "outputs": [
    {
     "name": "stdout",
     "output_type": "stream",
     "text": [
      "알고리즘 사랑해\n",
      "알고리즘 사랑해\n",
      "알고리즘 사랑해\n",
      "알고리즘 사랑해\n",
      "알고리즘 사랑해\n",
      "알고리즘 사랑해\n",
      "알고리즘 사랑해\n",
      "알고리즘 사랑해\n",
      "알고리즘 사랑해\n",
      "알고리즘 사랑해\n",
      "알고리즘 사랑해\n",
      "알고리즘 사랑해\n",
      "알고리즘 사랑해\n",
      "알고리즘 사랑해\n",
      "알고리즘 사랑해\n",
      "알고리즘 사랑해\n",
      "알고리즘 사랑해\n",
      "알고리즘 사랑해\n",
      "알고리즘 사랑해\n",
      "알고리즘 사랑해\n",
      "알고리즘 사랑해\n",
      "알고리즘 사랑해\n",
      "알고리즘 사랑해\n",
      "알고리즘 사랑해\n",
      "알고리즘 사랑해\n",
      "알고리즘 사랑해\n",
      "알고리즘 사랑해\n",
      "알고리즘 사랑해\n",
      "알고리즘 사랑해\n",
      "알고리즘 사랑해\n",
      "알고리즘 사랑해\n",
      "알고리즘 사랑해\n",
      "알고리즘 사랑해\n",
      "알고리즘 사랑해\n",
      "알고리즘 사랑해\n",
      "알고리즘 사랑해\n",
      "알고리즘 사랑해\n",
      "알고리즘 사랑해\n",
      "알고리즘 사랑해\n",
      "알고리즘 사랑해\n",
      "알고리즘 사랑해\n",
      "알고리즘 사랑해\n",
      "알고리즘 사랑해\n",
      "알고리즘 사랑해\n",
      "알고리즘 사랑해\n",
      "알고리즘 사랑해\n",
      "알고리즘 사랑해\n",
      "알고리즘 사랑해\n",
      "알고리즘 사랑해\n",
      "알고리즘 사랑해\n",
      "알고리즘 사랑해\n",
      "알고리즘 사랑해\n",
      "알고리즘 사랑해\n",
      "알고리즘 사랑해\n",
      "알고리즘 사랑해\n",
      "알고리즘 사랑해\n",
      "알고리즘 사랑해\n",
      "알고리즘 사랑해\n",
      "알고리즘 사랑해\n",
      "알고리즘 사랑해\n",
      "알고리즘 사랑해\n",
      "알고리즘 사랑해\n",
      "알고리즘 사랑해\n",
      "알고리즘 사랑해\n",
      "알고리즘 사랑해\n",
      "알고리즘 사랑해\n",
      "알고리즘 사랑해\n",
      "알고리즘 사랑해\n",
      "알고리즘 사랑해\n",
      "알고리즘 사랑해\n",
      "알고리즘 사랑해\n",
      "알고리즘 사랑해\n",
      "알고리즘 사랑해\n",
      "알고리즘 사랑해\n",
      "알고리즘 사랑해\n",
      "알고리즘 사랑해\n",
      "알고리즘 사랑해\n",
      "알고리즘 사랑해\n",
      "알고리즘 사랑해\n",
      "알고리즘 사랑해\n",
      "알고리즘 사랑해\n",
      "알고리즘 사랑해\n",
      "알고리즘 사랑해\n",
      "알고리즘 사랑해\n",
      "알고리즘 사랑해\n",
      "알고리즘 사랑해\n",
      "알고리즘 사랑해\n",
      "알고리즘 사랑해\n",
      "알고리즘 사랑해\n",
      "알고리즘 사랑해\n",
      "알고리즘 사랑해\n",
      "알고리즘 사랑해\n",
      "알고리즘 사랑해\n",
      "알고리즘 사랑해\n",
      "알고리즘 사랑해\n",
      "알고리즘 사랑해\n",
      "알고리즘 사랑해\n",
      "알고리즘 사랑해\n",
      "알고리즘 사랑해\n",
      "알고리즘 사랑해\n"
     ]
    }
   ],
   "source": [
    "def print_love():\n",
    "    print(\"알고리즘 사랑해\")\n",
    "\n",
    "for i in range(100):\n",
    "    print_love()"
   ]
  },
  {
   "cell_type": "code",
   "execution_count": null,
   "id": "94aaa745",
   "metadata": {},
   "outputs": [],
   "source": [
    "def print_max():\n",
    "    list1 = []\n",
    "    for i in range(3):\n",
    "        a = int(input(\"숫자를 입력하시오: \"))\n",
    "    list1.append(a)\n",
    "    print(max(list1))\n",
    "\n",
    "print_max()"
   ]
  },
  {
   "cell_type": "code",
   "execution_count": 3,
   "id": "a9eeed86",
   "metadata": {
    "scrolled": true
   },
   "outputs": [
    {
     "name": "stdout",
     "output_type": "stream",
     "text": [
      "숫자를 입력하시오(0이면 종료): 4\n",
      "숫자를 입력하시오(0이면 종료): 2\n",
      "숫자를 입력하시오(0이면 종료): 4\n",
      "숫자를 입력하시오(0이면 종료): 1\n",
      "숫자를 입력하시오(0이면 종료): 6\n",
      "숫자를 입력하시오(0이면 종료): 0\n",
      "3.4\n"
     ]
    }
   ],
   "source": [
    "def print_avg():\n",
    "    list2 = []\n",
    "    while(1):\n",
    "        a = int(input(\"숫자를 입력하시오(0이면 종료): \"))\n",
    "        if a == 0:\n",
    "            break\n",
    "        else:\n",
    "            list2.append(a)\n",
    "            \n",
    "    b = sum(list2)/len(list2)   \n",
    "    print(b)\n",
    "    \n",
    "print_avg()"
   ]
  },
  {
   "cell_type": "code",
   "execution_count": 4,
   "id": "b37d81f7",
   "metadata": {},
   "outputs": [
    {
     "name": "stdout",
     "output_type": "stream",
     "text": [
      "숫자를 입력하시오(10이면 끝남): 2\n",
      "숫자를 입력하시오(10이면 끝남): 5\n",
      "숫자를 입력하시오(10이면 끝남): 3\n",
      "숫자를 입력하시오(10이면 끝남): 7\n",
      "숫자를 입력하시오(10이면 끝남): 4\n",
      "숫자를 입력하시오(10이면 끝남): 5\n",
      "숫자를 입력하시오(10이면 끝남): 1\n",
      "숫자를 입력하시오(10이면 끝남): 4\n",
      "숫자를 입력하시오(10이면 끝남): 10\n"
     ]
    },
    {
     "data": {
      "text/plain": [
       "23"
      ]
     },
     "execution_count": 4,
     "metadata": {},
     "output_type": "execute_result"
    }
   ],
   "source": [
    "def solution(numbers):\n",
    "    list3=[]\n",
    "    for i in range(10):\n",
    "        if i not in numbers:\n",
    "            list3.append(i)\n",
    "    return sum(list3)\n",
    "\n",
    "numbers = []\n",
    "while(1):\n",
    "    a = int(input(\"숫자를 입력하시오(10이면 끝남): \"))\n",
    "    if(a == 10): break\n",
    "    elif a in numbers:\n",
    "        continue\n",
    "    else:\n",
    "        numbers.append(a)\n",
    "    \n",
    "solution(numbers)\n"
   ]
  },
  {
   "cell_type": "code",
   "execution_count": null,
   "id": "1bcc5c61",
   "metadata": {},
   "outputs": [],
   "source": [
    "def solve():\n",
    "    a = []\n",
    "    while(len(a) < 1000000):\n",
    "        num = int(input(\"숫자를 입력하시오(0 입력 시 종료): \"))\n",
    "        if (num >=1) and (num<=3000000):\n",
    "            a.append(num)\n",
    "        elif num == 0:\n",
    "            break\n",
    "        else: \n",
    "            print(\"값을 다시 입력하세요\")\n",
    "            continue\n",
    "            \n",
    "    return sum(a)\n",
    "\n",
    "solve()"
   ]
  }
 ],
 "metadata": {
  "kernelspec": {
   "display_name": "Python 3 (ipykernel)",
   "language": "python",
   "name": "python3"
  },
  "language_info": {
   "codemirror_mode": {
    "name": "ipython",
    "version": 3
   },
   "file_extension": ".py",
   "mimetype": "text/x-python",
   "name": "python",
   "nbconvert_exporter": "python",
   "pygments_lexer": "ipython3",
   "version": "3.9.7"
  }
 },
 "nbformat": 4,
 "nbformat_minor": 5
}
